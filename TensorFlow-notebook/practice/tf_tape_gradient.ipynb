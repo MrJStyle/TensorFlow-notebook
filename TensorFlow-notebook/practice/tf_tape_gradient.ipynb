{
 "cells": [
  {
   "cell_type": "code",
   "execution_count": 26,
   "metadata": {},
   "outputs": [],
   "source": [
    "import matplotlib.pyplot as plt\n",
    "import numpy as np\n",
    "import sklearn\n",
    "import pandas as pd\n",
    "import tensorflow as tf\n",
    "\n",
    "import os\n",
    "import sys\n",
    "import time\n",
    "\n",
    "from tensorflow import keras, Tensor, Variable, constant\n"
   ]
  },
  {
   "cell_type": "code",
   "execution_count": 4,
   "metadata": {},
   "outputs": [
    {
     "data": {
      "text/plain": [
       "10.001000000002591"
      ]
     },
     "execution_count": 4,
     "metadata": {},
     "output_type": "execute_result"
    }
   ],
   "source": [
    "def approximate_derivative(f, x, eps=1e-3):\n",
    "    return (f(x+eps) - f(x)) / eps\n",
    "\n",
    "f = lambda x: x**2\n",
    "\n",
    "approximate_derivative(f, 5)\n",
    "\n"
   ]
  },
  {
   "cell_type": "code",
   "execution_count": 5,
   "metadata": {},
   "outputs": [
    {
     "name": "stdout",
     "output_type": "stream",
     "text": [
      "(16.000000000019554, 80.0100000000441)\n"
     ]
    }
   ],
   "source": [
    "def g(x1, x2):\n",
    "    return (x1 + 5) * (x2 ** 2)\n",
    "\n",
    "def approximate_gradient(g, x1, x2, eps=1e-3):\n",
    "    dg_dx1 = approximate_derivative(lambda x: g(x, x2), x1, eps)\n",
    "    dg_dx2 = approximate_derivative(lambda x: g(x1, x), x2, eps)\n",
    "    \n",
    "    return dg_dx1, dg_dx2\n",
    "\n",
    "print(approximate_gradient(g, 5, 4))"
   ]
  },
  {
   "cell_type": "code",
   "execution_count": 24,
   "metadata": {},
   "outputs": [
    {
     "name": "stdout",
     "output_type": "stream",
     "text": [
      "tf.Tensor(9.0, shape=(), dtype=float32) tf.Tensor(42.0, shape=(), dtype=float32)\n"
     ]
    }
   ],
   "source": [
    "x1: Variable = tf.Variable(2.0)\n",
    "x2: Variable = tf.Variable(3.0)\n",
    "    \n",
    "with tf.GradientTape(persistent=True) as tape:\n",
    "    z = g(x1, x2)\n",
    "dz_dx1: Tensor = tape.gradient(z, x1)\n",
    "dz_dx2: Tensor = tape.gradient(z, x2)\n",
    "    \n",
    "print(dz_dx1, dz_dx2)"
   ]
  },
  {
   "cell_type": "code",
   "execution_count": 28,
   "metadata": {},
   "outputs": [
    {
     "name": "stdout",
     "output_type": "stream",
     "text": [
      "tf.Tensor(9.0, shape=(), dtype=float32) tf.Tensor(42.0, shape=(), dtype=float32)\n"
     ]
    }
   ],
   "source": [
    "x1: constant = tf.constant(2.0)\n",
    "x2: constant = tf.constant(3.0)\n",
    "    \n",
    "with tf.GradientTape(persistent=True) as tape:\n",
    "    tape.watch(x1)\n",
    "    tape.watch(x2)\n",
    "    z = g(x1, x2)\n",
    "dz_dx1: Tensor = tape.gradient(z, x1)\n",
    "dz_dx2: Tensor = tape.gradient(z, x2)\n",
    "    \n",
    "print(dz_dx1, dz_dx2)\n",
    "del tape"
   ]
  },
  {
   "cell_type": "code",
   "execution_count": 30,
   "metadata": {},
   "outputs": [
    {
     "data": {
      "text/plain": [
       "<tf.Tensor: id=479, shape=(), dtype=float32, numpy=13.0>"
      ]
     },
     "execution_count": 30,
     "metadata": {},
     "output_type": "execute_result"
    }
   ],
   "source": [
    "# 两个目标函数对一个变量求导数\n",
    "\n",
    "x: Variable = tf.Variable(5.)\n",
    "    \n",
    "with tf.GradientTape() as tape:\n",
    "    z1 = 3 * x\n",
    "    z2 = x ** 2\n",
    "    \n",
    "tape.gradient([z1, z2], x)"
   ]
  },
  {
   "cell_type": "code",
   "execution_count": 33,
   "metadata": {},
   "outputs": [
    {
     "name": "stdout",
     "output_type": "stream",
     "text": [
      "[[None, <tf.Tensor: id=601, shape=(), dtype=float32, numpy=6.0>], [<tf.Tensor: id=612, shape=(), dtype=float32, numpy=6.0>, <tf.Tensor: id=610, shape=(), dtype=float32, numpy=14.0>]]\n"
     ]
    }
   ],
   "source": [
    "# 求二阶导数\n",
    "\n",
    "x1: Variable = tf.Variable(2.0)\n",
    "x2: Variable = tf.Variable(3.0)\n",
    "\n",
    "with tf.GradientTape(persistent=True) as outer_tape:\n",
    "    with tf.GradientTape(persistent=True) as inner_tape:\n",
    "        z = g(x1, x2)\n",
    "        \n",
    "    inner_grads: list = inner_tape.gradient(z, [x1, x2])\n",
    "    \n",
    "outer_grads = [outer_tape.gradient(inner_grad, [x1, x2]) for inner_grad in inner_grads]\n",
    "print(outer_grads)\n",
    "\n",
    "del inner_tape, outer_tape"
   ]
  },
  {
   "cell_type": "code",
   "execution_count": 49,
   "metadata": {},
   "outputs": [
    {
     "name": "stdout",
     "output_type": "stream",
     "text": [
      "<tf.Variable 'Variable:0' shape=() dtype=float32, numpy=3e-45>\n"
     ]
    }
   ],
   "source": [
    "# 通过求导 实现梯度下降算法\n",
    "learning_rate = 0.1 \n",
    "x: Variable = tf.Variable(5.)\n",
    "\n",
    "f = lambda x: x**2\n",
    "    \n",
    "for _ in range(1000):\n",
    "    with tf.GradientTape() as tape:\n",
    "        # target function\n",
    "        z = f(x)\n",
    "    dz_dx = tape.gradient(z, x)\n",
    "    x.assign_sub(learning_rate * dz_dx)\n",
    "print(x)"
   ]
  },
  {
   "cell_type": "code",
   "execution_count": 48,
   "metadata": {},
   "outputs": [
    {
     "name": "stdout",
     "output_type": "stream",
     "text": [
      "<tf.Variable 'Variable:0' shape=() dtype=float32, numpy=3e-45>\n"
     ]
    }
   ],
   "source": [
    "learning_rate = 0.1 \n",
    "x: Variable = tf.Variable(5.)\n",
    "\n",
    "f = lambda x: x**2\n",
    "    \n",
    "optimizer = keras.optimizers.SGD(lr=learning_rate)    \n",
    "    \n",
    "for _ in range(1000):\n",
    "    with tf.GradientTape() as tape:\n",
    "        # target function\n",
    "        z = f(x)\n",
    "    dz_dx = tape.gradient(z, x)\n",
    "    optimizer.apply_gradients([(dz_dx, x)])\n",
    "print(x)"
   ]
  }
 ],
 "metadata": {
  "kernelspec": {
   "display_name": "Python 3",
   "language": "python",
   "name": "python3"
  },
  "language_info": {
   "codemirror_mode": {
    "name": "ipython",
    "version": 3
   },
   "file_extension": ".py",
   "mimetype": "text/x-python",
   "name": "python",
   "nbconvert_exporter": "python",
   "pygments_lexer": "ipython3",
   "version": "3.7.3"
  }
 },
 "nbformat": 4,
 "nbformat_minor": 4
}
