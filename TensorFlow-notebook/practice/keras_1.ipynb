{
 "cells": [
  {
   "cell_type": "code",
   "execution_count": 1,
   "metadata": {},
   "outputs": [
    {
     "name": "stdout",
     "output_type": "stream",
     "text": [
      "2.0.0\n",
      "2.2.4-tf\n"
     ]
    }
   ],
   "source": [
    "import numpy as np\n",
    "import tensorflow as tf\n",
    "from tensorflow.keras import layers\n",
    "from tensorflow.keras import Sequential\n",
    "\n",
    "\n",
    "print(tf.__version__)\n",
    "print(tf.keras.__version__)"
   ]
  },
  {
   "cell_type": "code",
   "execution_count": 2,
   "metadata": {
    "scrolled": false
   },
   "outputs": [],
   "source": [
    "model: Sequential = tf.keras.Sequential()\n",
    "model.add(layers.Dense(32, activation=\"relu\"))\n",
    "model.add(layers.Dense(32, activation=\"relu\"))\n",
    "model.add(layers.Dense(10, activation=\"softmax\"))\n",
    "\n",
    "model.compile(\n",
    "    optimizer=tf.keras.optimizers.Adam(0.001),\n",
    "    loss=tf.keras.losses.categorical_crossentropy,\n",
    "    metrics=[tf.keras.metrics.categorical_accuracy]\n",
    ")\n"
   ]
  },
  {
   "cell_type": "code",
   "execution_count": 3,
   "metadata": {},
   "outputs": [
    {
     "name": "stdout",
     "output_type": "stream",
     "text": [
      "Train on 1000 samples, validate on 200 samples\n",
      "Epoch 1/10\n",
      "1000/1000 [==============================] - 2s 2ms/sample - loss: 11.9229 - categorical_accuracy: 0.0910 - val_loss: 12.2013 - val_categorical_accuracy: 0.0800\n",
      "Epoch 2/10\n",
      "1000/1000 [==============================] - 0s 27us/sample - loss: 12.2263 - categorical_accuracy: 0.0910 - val_loss: 12.6577 - val_categorical_accuracy: 0.0850\n",
      "Epoch 3/10\n",
      "1000/1000 [==============================] - 0s 26us/sample - loss: 12.8639 - categorical_accuracy: 0.0910 - val_loss: 13.5867 - val_categorical_accuracy: 0.0850\n",
      "Epoch 4/10\n",
      "1000/1000 [==============================] - 0s 26us/sample - loss: 14.1245 - categorical_accuracy: 0.0930 - val_loss: 15.3551 - val_categorical_accuracy: 0.0850\n",
      "Epoch 5/10\n",
      "1000/1000 [==============================] - 0s 26us/sample - loss: 16.3920 - categorical_accuracy: 0.0930 - val_loss: 18.2626 - val_categorical_accuracy: 0.0850\n",
      "Epoch 6/10\n",
      "1000/1000 [==============================] - 0s 26us/sample - loss: 19.7206 - categorical_accuracy: 0.0920 - val_loss: 21.9806 - val_categorical_accuracy: 0.0900\n",
      "Epoch 7/10\n",
      "1000/1000 [==============================] - 0s 26us/sample - loss: 23.7268 - categorical_accuracy: 0.0840 - val_loss: 26.4527 - val_categorical_accuracy: 0.1100\n",
      "Epoch 8/10\n",
      "1000/1000 [==============================] - 0s 26us/sample - loss: 28.4815 - categorical_accuracy: 0.1060 - val_loss: 31.3133 - val_categorical_accuracy: 0.1100\n",
      "Epoch 9/10\n",
      "1000/1000 [==============================] - 0s 25us/sample - loss: 32.7608 - categorical_accuracy: 0.0990 - val_loss: 34.7982 - val_categorical_accuracy: 0.1050\n",
      "Epoch 10/10\n",
      "1000/1000 [==============================] - 0s 28us/sample - loss: 35.6545 - categorical_accuracy: 0.1040 - val_loss: 36.8210 - val_categorical_accuracy: 0.0850\n"
     ]
    },
    {
     "data": {
      "text/plain": [
       "<tensorflow.python.keras.callbacks.History at 0x7f7bcaf5ee10>"
      ]
     },
     "execution_count": 3,
     "metadata": {},
     "output_type": "execute_result"
    }
   ],
   "source": [
    "train_x = np.random.random([1000, 32])\n",
    "train_y = np.random.random([1000, 10])\n",
    "\n",
    "test_x = np.random.random([200, 32])\n",
    "test_y = np.random.random([200, 10])\n",
    "\n",
    "model.fit(train_x, train_y, epochs=10, batch_size=100, validation_data=(test_x, test_y))"
   ]
  }
 ],
 "metadata": {
  "kernelspec": {
   "display_name": "Python 3",
   "language": "python",
   "name": "python3"
  },
  "language_info": {
   "codemirror_mode": {
    "name": "ipython",
    "version": 3
   },
   "file_extension": ".py",
   "mimetype": "text/x-python",
   "name": "python",
   "nbconvert_exporter": "python",
   "pygments_lexer": "ipython3",
   "version": "3.7.3"
  }
 },
 "nbformat": 4,
 "nbformat_minor": 4
}
